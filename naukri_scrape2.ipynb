{
 "cells": [
  {
   "cell_type": "code",
   "execution_count": 27,
   "id": "5a8d2118-eeab-4ea3-abc6-012ae07cfeed",
   "metadata": {},
   "outputs": [
    {
     "name": "stdout",
     "output_type": "stream",
     "text": [
      "Collecting pip\n",
      "  Using cached pip-24.3.1-py3-none-any.whl (1.8 MB)\n",
      "Requirement already up-to-date: BeautifulSoup4 in /root/env/lib/python3.8/site-packages (4.12.3)\n",
      "Requirement already up-to-date: requests in /root/env/lib/python3.8/site-packages (2.32.3)\n",
      "Requirement already up-to-date: urllib3 in /root/env/lib/python3.8/site-packages (2.2.3)\n",
      "Requirement already up-to-date: pandas in /root/env/lib/python3.8/site-packages (2.0.3)\n",
      "Requirement already up-to-date: matplotlib in /root/env/lib/python3.8/site-packages (3.7.5)\n",
      "\u001b[31mERROR: Could not find a version that satisfies the requirement xml (from versions: none)\u001b[0m\n",
      "\u001b[31mERROR: No matching distribution found for xml\u001b[0m\n",
      "Note: you may need to restart the kernel to use updated packages.\n"
     ]
    }
   ],
   "source": [
    "pip install --upgrade pip BeautifulSoup4 requests urllib3 pandas matplotlib xml"
   ]
  },
  {
   "cell_type": "code",
   "execution_count": null,
   "id": "43843690-52a9-42c0-ade6-9a113fe3216f",
   "metadata": {},
   "outputs": [],
   "source": [
    "from bs4 import BeautifulSoup\n",
    "import requests\n",
    "import urllib3\n",
    "import pandas as pd\n",
    "import math\n",
    "import time\n",
    "from pandas import DataFrame, Series\n",
    "import matplotlib\n",
    "%matplotlib inline\n",
    "print(dir(urllib3))"
   ]
  },
  {
   "cell_type": "code",
   "execution_count": 8,
   "id": "dbc9337a-71a3-450e-a34b-4d3c3054b980",
   "metadata": {},
   "outputs": [
    {
     "name": "stdout",
     "output_type": "stream",
     "text": [
      "Help on function request in module urllib3:\n",
      "\n",
      "request(method: 'str', url: 'str', *, body: '_TYPE_BODY | None' = None, fields: '_TYPE_FIELDS | None' = None, headers: 'typing.Mapping[str, str] | None' = None, preload_content: 'bool | None' = True, decode_content: 'bool | None' = True, redirect: 'bool | None' = True, retries: 'Retry | bool | int | None' = None, timeout: 'Timeout | float | int | None' = 3, json: 'typing.Any | None' = None) -> 'BaseHTTPResponse'\n",
      "    A convenience, top-level request method. It uses a module-global ``PoolManager`` instance.\n",
      "    Therefore, its side effects could be shared across dependencies relying on it.\n",
      "    To avoid side effects create a new ``PoolManager`` instance and use it instead.\n",
      "    The method does not accept low-level ``**urlopen_kw`` keyword arguments.\n",
      "    \n",
      "    :param method:\n",
      "        HTTP request method (such as GET, POST, PUT, etc.)\n",
      "    \n",
      "    :param url:\n",
      "        The URL to perform the request on.\n",
      "    \n",
      "    :param body:\n",
      "        Data to send in the request body, either :class:`str`, :class:`bytes`,\n",
      "        an iterable of :class:`str`/:class:`bytes`, or a file-like object.\n",
      "    \n",
      "    :param fields:\n",
      "        Data to encode and send in the request body.\n",
      "    \n",
      "    :param headers:\n",
      "        Dictionary of custom headers to send, such as User-Agent,\n",
      "        If-None-Match, etc.\n",
      "    \n",
      "    :param bool preload_content:\n",
      "        If True, the response's body will be preloaded into memory.\n",
      "    \n",
      "    :param bool decode_content:\n",
      "        If True, will attempt to decode the body based on the\n",
      "        'content-encoding' header.\n",
      "    \n",
      "    :param redirect:\n",
      "        If True, automatically handle redirects (status codes 301, 302,\n",
      "        303, 307, 308). Each redirect counts as a retry. Disabling retries\n",
      "        will disable redirect, too.\n",
      "    \n",
      "    :param retries:\n",
      "        Configure the number of retries to allow before raising a\n",
      "        :class:`~urllib3.exceptions.MaxRetryError` exception.\n",
      "    \n",
      "        If ``None`` (default) will retry 3 times, see ``Retry.DEFAULT``. Pass a\n",
      "        :class:`~urllib3.util.retry.Retry` object for fine-grained control\n",
      "        over different types of retries.\n",
      "        Pass an integer number to retry connection errors that many times,\n",
      "        but no other types of errors. Pass zero to never retry.\n",
      "    \n",
      "        If ``False``, then retries are disabled and any exception is raised\n",
      "        immediately. Also, instead of raising a MaxRetryError on redirects,\n",
      "        the redirect response will be returned.\n",
      "    \n",
      "    :type retries: :class:`~urllib3.util.retry.Retry`, False, or an int.\n",
      "    \n",
      "    :param timeout:\n",
      "        If specified, overrides the default timeout for this one\n",
      "        request. It may be a float (in seconds) or an instance of\n",
      "        :class:`urllib3.util.Timeout`.\n",
      "    \n",
      "    :param json:\n",
      "        Data to encode and send as JSON with UTF-encoded in the request body.\n",
      "        The ``\"Content-Type\"`` header will be set to ``\"application/json\"``\n",
      "        unless specified otherwise.\n",
      "\n",
      "None\n"
     ]
    }
   ],
   "source": [
    "print(help(urllib3.request))"
   ]
  },
  {
   "cell_type": "code",
   "execution_count": 39,
   "id": "29bf36ac-c39e-489e-8037-a0dd4e9d7d90",
   "metadata": {},
   "outputs": [],
   "source": [
    "hd={'User-Agent': 'Mozilla/5.0'}\n",
    "u='https://www.naukri.com/devops-jobs?k=devops'\n",
    "res=urllib3.request(url=u,headers=hd,method='GET')"
   ]
  },
  {
   "cell_type": "code",
   "execution_count": 40,
   "id": "751ac4f8-fe21-4bc1-bd99-916916e7370e",
   "metadata": {},
   "outputs": [
    {
     "name": "stdout",
     "output_type": "stream",
     "text": [
      "<title>Access Denied</title>\n"
     ]
    }
   ],
   "source": [
    "soup1 = BeautifulSoup(res.data,\"html.parser\")\n",
    "print(soup1.title)\n",
    "all_links = [link.get('href') for link in soup1.findAll('a') if 'job-listings' in  str(link.get('href'))]\n"
   ]
  },
  {
   "cell_type": "code",
   "execution_count": null,
   "id": "ad0068d7-4495-47b8-ac44-311295ee628b",
   "metadata": {},
   "outputs": [],
   "source": []
  }
 ],
 "metadata": {
  "kernelspec": {
   "display_name": "Python 3 (ipykernel)",
   "language": "python",
   "name": "python3"
  },
  "language_info": {
   "codemirror_mode": {
    "name": "ipython",
    "version": 3
   },
   "file_extension": ".py",
   "mimetype": "text/x-python",
   "name": "python",
   "nbconvert_exporter": "python",
   "pygments_lexer": "ipython3",
   "version": "3.8.10"
  }
 },
 "nbformat": 4,
 "nbformat_minor": 5
}
